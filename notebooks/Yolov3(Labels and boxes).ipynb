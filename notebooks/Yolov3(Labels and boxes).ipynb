{
 "cells": [
  {
   "cell_type": "code",
   "execution_count": 70,
   "metadata": {},
   "outputs": [],
   "source": [
    "#import libraries\n",
    "import pandas as pd\n",
    "import os\n",
    "import shutil"
   ]
  },
  {
   "cell_type": "code",
   "execution_count": 23,
   "metadata": {},
   "outputs": [
    {
     "data": {
      "text/plain": [
       "{'Human_body': 0,\n",
       " 'Human_foot': 1,\n",
       " 'Human_leg': 2,\n",
       " 'Human_head': 3,\n",
       " 'Human_arm': 4,\n",
       " 'Human_hand': 5}"
      ]
     },
     "execution_count": 23,
     "metadata": {},
     "output_type": "execute_result"
    }
   ],
   "source": [
    "# Read datasets\n",
    "classes = pd.read_csv('../data/class-descriptions-boxable.csv')\n",
    "class_labels_dict = { row['label']:row['name'].replace(' ','_') for _, row in classes.iterrows() }\n",
    "class_labels_dict_index = { row['name'].replace(' ','_'):index for index, row in classes.iterrows() }\n",
    "class_labels_dict_index"
   ]
  },
  {
   "cell_type": "code",
   "execution_count": 65,
   "metadata": {},
   "outputs": [],
   "source": [
    "# Define function to reshape boxes to yolo format\n",
    "def create_yolo_boxes(path, index, path_save = ''):\n",
    "    for filename in os.listdir(path):\n",
    "        if filename.endswith(\".txt\"):\n",
    "            f = open(path + '/' + filename, \"r\")\n",
    "            content = f.read()\n",
    "            lines = content.split('\\n')\n",
    "            outputs = []\n",
    "            for line in lines:\n",
    "                if line == '':\n",
    "                    continue\n",
    "                elements = line.split(',')\n",
    "                if len(elements) < 5:\n",
    "                    continue\n",
    "                    \n",
    "                xmin,xmax,ymin,ymax = float(elements[1]),float(elements[2]),float(elements[3]),float(elements[4])\n",
    "                cx = (xmin + xmax) / 2\n",
    "                cy = (ymin + ymax) / 2\n",
    "                w  = xmax-xmin\n",
    "                h  = ymax-ymin\n",
    "                outputs.append(str(index) + ' ' + str(cx) + ' ' + str(cy) + ' ' + str(w) + ' ' + str(h) + '\\n')\n",
    "            f.close()\n",
    "            \n",
    "            if not os.path.exists(path + '/' + path_save):\n",
    "                os.mkdir(path + '/' + path_save)\n",
    "            f = open(path + '/' + path_save + '/' + filename, \"w\")\n",
    "            for o in outputs:\n",
    "                f.write(o)\n",
    "            f.close()\n",
    "            "
   ]
  },
  {
   "cell_type": "code",
   "execution_count": 66,
   "metadata": {},
   "outputs": [],
   "source": [
    "path = '../data/train/'\n",
    "for key in class_labels_dict_index:\n",
    "    create_yolo_boxes(path + key, class_labels_dict_index[key], 'labels/')"
   ]
  },
  {
   "cell_type": "markdown",
   "metadata": {},
   "source": [
    "### Merge labels"
   ]
  },
  {
   "cell_type": "code",
   "execution_count": 75,
   "metadata": {},
   "outputs": [
    {
     "name": "stdout",
     "output_type": "stream",
     "text": [
      "0\n"
     ]
    }
   ],
   "source": [
    "set_labels = set()\n",
    "for filename in os.listdir(path + 'labels/'):\n",
    "    if filename.endswith(\".txt\"):\n",
    "        set_labels.add(filename)\n",
    "\n",
    "print(len(set_labels))\n",
    "        \n",
    "def append_labels(path, labels, destiny):\n",
    "    for filename in os.listdir(path):\n",
    "        if filename in labels:\n",
    "            with open(destiny + '/' + filename, 'a') as outfile:\n",
    "                with open(path + filename) as infile:\n",
    "                    for line in infile:\n",
    "                        outfile.write(line)\n",
    "        else:\n",
    "            shutil.copy(path + filename, destiny + filename)\n",
    "            labels.add(filename)\n",
    "    return labels"
   ]
  },
  {
   "cell_type": "code",
   "execution_count": 76,
   "metadata": {},
   "outputs": [
    {
     "name": "stdout",
     "output_type": "stream",
     "text": [
      "2073\n"
     ]
    }
   ],
   "source": [
    "set_labels = append_labels(path + 'Human_arm/labels/', set_labels, path + 'labels/')\n",
    "print(len(set_labels))"
   ]
  },
  {
   "cell_type": "code",
   "execution_count": 77,
   "metadata": {},
   "outputs": [
    {
     "name": "stdout",
     "output_type": "stream",
     "text": [
      "3994\n"
     ]
    }
   ],
   "source": [
    "set_labels = append_labels(path + 'Human_body/labels/', set_labels, path + 'labels/')\n",
    "print(len(set_labels))"
   ]
  },
  {
   "cell_type": "code",
   "execution_count": 78,
   "metadata": {},
   "outputs": [
    {
     "name": "stdout",
     "output_type": "stream",
     "text": [
      "4943\n"
     ]
    }
   ],
   "source": [
    "set_labels = append_labels(path + 'Human_foot/labels/', set_labels, path + 'labels/')\n",
    "print(len(set_labels))"
   ]
  },
  {
   "cell_type": "code",
   "execution_count": 79,
   "metadata": {},
   "outputs": [
    {
     "name": "stdout",
     "output_type": "stream",
     "text": [
      "6714\n"
     ]
    }
   ],
   "source": [
    "set_labels = append_labels(path + 'Human_hand/labels/', set_labels, path + 'labels/')\n",
    "print(len(set_labels))"
   ]
  },
  {
   "cell_type": "code",
   "execution_count": 80,
   "metadata": {},
   "outputs": [
    {
     "name": "stdout",
     "output_type": "stream",
     "text": [
      "8413\n"
     ]
    }
   ],
   "source": [
    "set_labels = append_labels(path + 'Human_head/labels/', set_labels, path + 'labels/')\n",
    "print(len(set_labels))"
   ]
  },
  {
   "cell_type": "code",
   "execution_count": 81,
   "metadata": {},
   "outputs": [
    {
     "name": "stdout",
     "output_type": "stream",
     "text": [
      "10079\n"
     ]
    }
   ],
   "source": [
    "set_labels = append_labels(path + 'Human_leg/labels/', set_labels, path + 'labels/')\n",
    "print(len(set_labels))"
   ]
  },
  {
   "cell_type": "code",
   "execution_count": 82,
   "metadata": {},
   "outputs": [],
   "source": [
    "images = set()\n",
    "def copy_images(origin, destiny, images):\n",
    "    for filename in os.listdir(origin):\n",
    "        if filename.endswith('.jpg'):\n",
    "            if filename in images:\n",
    "                continue\n",
    "            else:\n",
    "                shutil.copy(origin + filename, destiny + filename)\n",
    "                images.add(filename)\n",
    "            \n",
    "    return images"
   ]
  },
  {
   "cell_type": "code",
   "execution_count": 83,
   "metadata": {},
   "outputs": [
    {
     "name": "stdout",
     "output_type": "stream",
     "text": [
      "2042\n",
      "2996\n",
      "4845\n",
      "6687\n",
      "8439\n",
      "10076\n"
     ]
    }
   ],
   "source": [
    "for key in class_labels_dict_index:\n",
    "    images = copy_images(path + key + '/', path + 'images/', images)\n",
    "    print(len(images))"
   ]
  },
  {
   "cell_type": "code",
   "execution_count": 86,
   "metadata": {},
   "outputs": [
    {
     "name": "stdout",
     "output_type": "stream",
     "text": [
      "49262b8f828e9d43.txt\n",
      "b325b67fb67718de.txt\n",
      "ba1ea6102b729c92.txt\n"
     ]
    }
   ],
   "source": [
    "for label in set_labels:\n",
    "    not_found = True\n",
    "    for image in images:\n",
    "        if label[:-3] == image[:-3]:\n",
    "            not_found = False\n",
    "            break\n",
    "    if not_found:\n",
    "        print(label)"
   ]
  },
  {
   "cell_type": "code",
   "execution_count": null,
   "metadata": {},
   "outputs": [],
   "source": []
  }
 ],
 "metadata": {
  "kernelspec": {
   "display_name": "Python 3",
   "language": "python",
   "name": "python3"
  },
  "language_info": {
   "codemirror_mode": {
    "name": "ipython",
    "version": 3
   },
   "file_extension": ".py",
   "mimetype": "text/x-python",
   "name": "python",
   "nbconvert_exporter": "python",
   "pygments_lexer": "ipython3",
   "version": "3.7.3"
  }
 },
 "nbformat": 4,
 "nbformat_minor": 2
}
