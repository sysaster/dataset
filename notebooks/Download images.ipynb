{
 "cells": [
  {
   "cell_type": "code",
   "execution_count": 1,
   "metadata": {},
   "outputs": [],
   "source": [
    "# Import libraries\n",
    "import pandas as pd"
   ]
  },
  {
   "cell_type": "markdown",
   "metadata": {},
   "source": [
    "### Downloading images for trainning"
   ]
  },
  {
   "cell_type": "code",
   "execution_count": 13,
   "metadata": {},
   "outputs": [
    {
     "data": {
      "text/html": [
       "<div>\n",
       "<style scoped>\n",
       "    .dataframe tbody tr th:only-of-type {\n",
       "        vertical-align: middle;\n",
       "    }\n",
       "\n",
       "    .dataframe tbody tr th {\n",
       "        vertical-align: top;\n",
       "    }\n",
       "\n",
       "    .dataframe thead th {\n",
       "        text-align: right;\n",
       "    }\n",
       "</style>\n",
       "<table border=\"1\" class=\"dataframe\">\n",
       "  <thead>\n",
       "    <tr style=\"text-align: right;\">\n",
       "      <th></th>\n",
       "      <th>label</th>\n",
       "      <th>name</th>\n",
       "    </tr>\n",
       "  </thead>\n",
       "  <tbody>\n",
       "    <tr>\n",
       "      <th>0</th>\n",
       "      <td>/m/02p0tk3</td>\n",
       "      <td>Human body</td>\n",
       "    </tr>\n",
       "    <tr>\n",
       "      <th>1</th>\n",
       "      <td>/m/031n1</td>\n",
       "      <td>Human foot</td>\n",
       "    </tr>\n",
       "    <tr>\n",
       "      <th>2</th>\n",
       "      <td>/m/035r7c</td>\n",
       "      <td>Human leg</td>\n",
       "    </tr>\n",
       "    <tr>\n",
       "      <th>3</th>\n",
       "      <td>/m/04hgtk</td>\n",
       "      <td>Human head</td>\n",
       "    </tr>\n",
       "    <tr>\n",
       "      <th>4</th>\n",
       "      <td>/m/0dzf4</td>\n",
       "      <td>Human arm</td>\n",
       "    </tr>\n",
       "    <tr>\n",
       "      <th>5</th>\n",
       "      <td>/m/0k65p</td>\n",
       "      <td>Human hand</td>\n",
       "    </tr>\n",
       "  </tbody>\n",
       "</table>\n",
       "</div>"
      ],
      "text/plain": [
       "        label        name\n",
       "0  /m/02p0tk3  Human body\n",
       "1    /m/031n1  Human foot\n",
       "2   /m/035r7c   Human leg\n",
       "3   /m/04hgtk  Human head\n",
       "4    /m/0dzf4   Human arm\n",
       "5    /m/0k65p  Human hand"
      ]
     },
     "execution_count": 13,
     "metadata": {},
     "output_type": "execute_result"
    }
   ],
   "source": [
    "class_descriptions = pd.read_csv('../data/class-descriptions-boxable.csv')\n",
    "class_descriptions"
   ]
  },
  {
   "cell_type": "code",
   "execution_count": 14,
   "metadata": {},
   "outputs": [
    {
     "data": {
      "text/plain": [
       "'Human_body,Human_foot,Human_leg,Human_head,Human_arm,Human_hand'"
      ]
     },
     "execution_count": 14,
     "metadata": {},
     "output_type": "execute_result"
    }
   ],
   "source": [
    "names = ''\n",
    "for name in class_descriptions.name:\n",
    "    names += name.replace(' ','_') + ','\n",
    "names = names[:-1]\n",
    "names"
   ]
  },
  {
   "cell_type": "code",
   "execution_count": null,
   "metadata": {},
   "outputs": [
    {
     "name": "stdout",
     "output_type": "stream",
     "text": [
      "Class 0 : Human_body\n",
      "Class 1 : Human_foot\n",
      "Class 2 : Human_leg\n",
      "Class 3 : Human_head\n",
      "Class 4 : Human_arm\n",
      "Class 5 : Human_hand\n",
      "Annotation Count : 13134\n",
      "Number of images to be downloaded : 11071\n",
      " 99%|██████████████████████████████████▌| 10952/11071 [2:15:43<01:29,  1.33it/s]fatal error: Could not connect to the endpoint URL: \"https://open-images-dataset.s3.amazonaws.com/train/b83e04cc2abb30e2.jpg\"\n",
      "fatal error: Could not connect to the endpoint URL: \"https://open-images-dataset.s3.amazonaws.com/train/49262b8f828e9d43.jpg\"\n",
      "fatal error: Could not connect to the endpoint URL: \"https://open-images-dataset.s3.amazonaws.com/train/b325b67fb67718de.jpg\"\n",
      "fatal error: Could not connect to the endpoint URL: \"https://open-images-dataset.s3.amazonaws.com/train/aa8abbb593249c55.jpg\"\n",
      "fatal error: Could not connect to the endpoint URL: \"https://open-images-dataset.s3.amazonaws.com/train/ba1ea6102b729c92.jpg\"\n",
      "100%|██████████████████████████████████▉| 11057/11071 [2:17:25<00:09,  1.48it/s]"
     ]
    }
   ],
   "source": [
    "!cd ../data/ && python3 ../scripts/downloadOI.py --classes {names} --mode train --files './'"
   ]
  },
  {
   "cell_type": "code",
   "execution_count": null,
   "metadata": {},
   "outputs": [],
   "source": []
  }
 ],
 "metadata": {
  "kernelspec": {
   "display_name": "Python 3",
   "language": "python",
   "name": "python3"
  },
  "language_info": {
   "codemirror_mode": {
    "name": "ipython",
    "version": 3
   },
   "file_extension": ".py",
   "mimetype": "text/x-python",
   "name": "python",
   "nbconvert_exporter": "python",
   "pygments_lexer": "ipython3",
   "version": "3.7.3"
  }
 },
 "nbformat": 4,
 "nbformat_minor": 2
}
