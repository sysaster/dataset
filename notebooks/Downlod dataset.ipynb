{
 "cells": [
  {
   "cell_type": "markdown",
   "metadata": {},
   "source": [
    "# Step-to-Step to download datasets"
   ]
  },
  {
   "cell_type": "markdown",
   "metadata": {},
   "source": [
    "### Download description files"
   ]
  },
  {
   "cell_type": "code",
   "execution_count": 1,
   "metadata": {},
   "outputs": [
    {
     "name": "stdout",
     "output_type": "stream",
     "text": [
      "--2019-05-08 14:04:54--  https://storage.googleapis.com/openimages/2018_04/class-descriptions-boxable.csv\n",
      "Loaded CA certificate '/etc/ssl/certs/ca-certificates.crt'\n",
      "Resolving storage.googleapis.com (storage.googleapis.com)... 172.217.28.240, 2800:3f0:4001:801::2010\n",
      "Connecting to storage.googleapis.com (storage.googleapis.com)|172.217.28.240|:443... connected.\n",
      "HTTP request sent, awaiting response... 200 OK\n",
      "Length: 11255 (11K) [text/csv]\n",
      "Saving to: ‘/tmp/dataset/class-descriptions-boxable.csv’\n",
      "\n",
      "/tmp/dataset/class- 100%[===================>]  10,99K  --.-KB/s    in 0,008s  \n",
      "\n",
      "2019-05-08 14:04:54 (1,35 MB/s) - ‘/tmp/dataset/class-descriptions-boxable.csv’ saved [11255/11255]\n",
      "\n",
      "--2019-05-08 14:04:55--  https://storage.googleapis.com/openimages/2018_04/train/train-annotations-bbox.csv\n",
      "Loaded CA certificate '/etc/ssl/certs/ca-certificates.crt'\n",
      "Resolving storage.googleapis.com (storage.googleapis.com)... 172.217.28.240, 2800:3f0:4001:801::2010\n",
      "Connecting to storage.googleapis.com (storage.googleapis.com)|172.217.28.240|:443... connected.\n",
      "HTTP request sent, awaiting response... 200 OK\n",
      "Length: 1194033454 (1,1G) [text/csv]\n",
      "Saving to: ‘/tmp/dataset/train-annotations-bbox.csv’\n",
      "\n",
      "/tmp/dataset/train- 100%[===================>]   1,11G  3,46MB/s    in 4m 33s  \n",
      "\n",
      "2019-05-08 14:09:28 (4,18 MB/s) - ‘/tmp/dataset/train-annotations-bbox.csv’ saved [1194033454/1194033454]\n",
      "\n",
      "--2019-05-08 14:09:29--  https://storage.googleapis.com/openimages/2018_04/validation/validation-annotations-bbox.csv\n",
      "Loaded CA certificate '/etc/ssl/certs/ca-certificates.crt'\n",
      "Resolving storage.googleapis.com (storage.googleapis.com)... 172.217.28.240, 2800:3f0:4001:801::2010\n",
      "Connecting to storage.googleapis.com (storage.googleapis.com)|172.217.28.240|:443... connected.\n",
      "HTTP request sent, awaiting response... 200 OK\n",
      "Length: 17074036 (16M) [text/csv]\n",
      "Saving to: ‘/tmp/dataset/validation-annotations-bbox.csv’\n",
      "\n",
      "/tmp/dataset/valida 100%[===================>]  16,28M  3,15MB/s    in 5,8s    \n",
      "\n",
      "2019-05-08 14:09:36 (2,80 MB/s) - ‘/tmp/dataset/validation-annotations-bbox.csv’ saved [17074036/17074036]\n",
      "\n",
      "--2019-05-08 14:09:36--  https://storage.googleapis.com/openimages/2018_04/test/test-annotations-bbox.csv\n",
      "Loaded CA certificate '/etc/ssl/certs/ca-certificates.crt'\n",
      "Resolving storage.googleapis.com (storage.googleapis.com)... 172.217.28.240, 2800:3f0:4001:801::2010\n",
      "Connecting to storage.googleapis.com (storage.googleapis.com)|172.217.28.240|:443... connected.\n",
      "HTTP request sent, awaiting response... 200 OK\n",
      "Length: 52174204 (50M) [text/csv]\n",
      "Saving to: ‘/tmp/dataset/test-annotations-bbox.csv’\n",
      "\n",
      "/tmp/dataset/test-a 100%[===================>]  49,76M  3,58MB/s    in 22s     \n",
      "\n",
      "2019-05-08 14:09:59 (2,25 MB/s) - ‘/tmp/dataset/test-annotations-bbox.csv’ saved [52174204/52174204]\n",
      "\n"
     ]
    }
   ],
   "source": [
    "!mkdir -p /tmp/dataset\n",
    "!wget https://storage.googleapis.com/openimages/2018_04/class-descriptions-boxable.csv -O /tmp/dataset/class-descriptions-boxable.csv\n",
    "!wget https://storage.googleapis.com/openimages/2018_04/train/train-annotations-bbox.csv -O /tmp/dataset/train-annotations-bbox.csv\n",
    "!wget https://storage.googleapis.com/openimages/2018_04/validation/validation-annotations-bbox.csv -O /tmp/dataset/validation-annotations-bbox.csv\n",
    "!wget https://storage.googleapis.com/openimages/2018_04/test/test-annotations-bbox.csv -O /tmp/dataset/test-annotations-bbox.csv"
   ]
  },
  {
   "cell_type": "markdown",
   "metadata": {},
   "source": [
    "### Check files"
   ]
  },
  {
   "cell_type": "code",
   "execution_count": 2,
   "metadata": {},
   "outputs": [
    {
     "name": "stdout",
     "output_type": "stream",
     "text": [
      "class-descriptions-boxable.csv\ttrain-annotations-bbox.csv\r\n",
      "test-annotations-bbox.csv\tvalidation-annotations-bbox.csv\r\n"
     ]
    }
   ],
   "source": [
    "!ls /tmp/dataset/"
   ]
  },
  {
   "cell_type": "markdown",
   "metadata": {},
   "source": [
    "### Download script to download the dataset"
   ]
  },
  {
   "cell_type": "code",
   "execution_count": 3,
   "metadata": {},
   "outputs": [
    {
     "name": "stdout",
     "output_type": "stream",
     "text": [
      "--2019-05-08 14:11:30--  https://raw.githubusercontent.com/spmallick/learnopencv/master/downloadOpenImages/downloadOI.py\n",
      "Loaded CA certificate '/etc/ssl/certs/ca-certificates.crt'\n",
      "Resolving raw.githubusercontent.com (raw.githubusercontent.com)... 151.101.128.133, 151.101.192.133, 151.101.0.133, ...\n",
      "Connecting to raw.githubusercontent.com (raw.githubusercontent.com)|151.101.128.133|:443... connected.\n",
      "HTTP request sent, awaiting response... 200 OK\n",
      "Length: 3555 (3,5K) [text/plain]\n",
      "Saving to: ‘../scripts/downloadOI.py’\n",
      "\n",
      "../scripts/download 100%[===================>]   3,47K  --.-KB/s    in 0s      \n",
      "\n",
      "2019-05-08 14:11:30 (20,7 MB/s) - ‘../scripts/downloadOI.py’ saved [3555/3555]\n",
      "\n"
     ]
    }
   ],
   "source": [
    "!mkdir -p ../scripts\n",
    "!wget https://raw.githubusercontent.com/spmallick/learnopencv/master/downloadOpenImages/downloadOI.py -O ../scripts/downloadOI.py"
   ]
  },
  {
   "cell_type": "markdown",
   "metadata": {},
   "source": [
    "### Filtering the data"
   ]
  },
  {
   "cell_type": "code",
   "execution_count": 4,
   "metadata": {},
   "outputs": [],
   "source": [
    "#!cd /tmp/dataset && python3 downloadOI.py --classes 'Human_face,Human_arm,Human_head,Human_body,Human_hand,Human_leg,Human_foot' --mode train --depiction=0\n",
    "# Importing libraries\n",
    "import pandas as pd\n",
    "import os"
   ]
  },
  {
   "cell_type": "code",
   "execution_count": 5,
   "metadata": {},
   "outputs": [],
   "source": [
    "class_labels = pd.read_csv('/tmp/dataset/class-descriptions-boxable.csv', header=None, names=['label', 'name'])"
   ]
  },
  {
   "cell_type": "code",
   "execution_count": 6,
   "metadata": {},
   "outputs": [
    {
     "data": {
      "text/html": [
       "<div>\n",
       "<style scoped>\n",
       "    .dataframe tbody tr th:only-of-type {\n",
       "        vertical-align: middle;\n",
       "    }\n",
       "\n",
       "    .dataframe tbody tr th {\n",
       "        vertical-align: top;\n",
       "    }\n",
       "\n",
       "    .dataframe thead th {\n",
       "        text-align: right;\n",
       "    }\n",
       "</style>\n",
       "<table border=\"1\" class=\"dataframe\">\n",
       "  <thead>\n",
       "    <tr style=\"text-align: right;\">\n",
       "      <th></th>\n",
       "      <th>label</th>\n",
       "      <th>name</th>\n",
       "    </tr>\n",
       "  </thead>\n",
       "  <tbody>\n",
       "    <tr>\n",
       "      <th>0</th>\n",
       "      <td>/m/011k07</td>\n",
       "      <td>Tortoise</td>\n",
       "    </tr>\n",
       "    <tr>\n",
       "      <th>1</th>\n",
       "      <td>/m/011q46kg</td>\n",
       "      <td>Container</td>\n",
       "    </tr>\n",
       "    <tr>\n",
       "      <th>2</th>\n",
       "      <td>/m/012074</td>\n",
       "      <td>Magpie</td>\n",
       "    </tr>\n",
       "    <tr>\n",
       "      <th>3</th>\n",
       "      <td>/m/0120dh</td>\n",
       "      <td>Sea turtle</td>\n",
       "    </tr>\n",
       "    <tr>\n",
       "      <th>4</th>\n",
       "      <td>/m/01226z</td>\n",
       "      <td>Football</td>\n",
       "    </tr>\n",
       "  </tbody>\n",
       "</table>\n",
       "</div>"
      ],
      "text/plain": [
       "         label        name\n",
       "0    /m/011k07    Tortoise\n",
       "1  /m/011q46kg   Container\n",
       "2    /m/012074      Magpie\n",
       "3    /m/0120dh  Sea turtle\n",
       "4    /m/01226z    Football"
      ]
     },
     "execution_count": 6,
     "metadata": {},
     "output_type": "execute_result"
    }
   ],
   "source": [
    "class_labels.head()"
   ]
  },
  {
   "cell_type": "code",
   "execution_count": 7,
   "metadata": {},
   "outputs": [
    {
     "data": {
      "text/html": [
       "<div>\n",
       "<style scoped>\n",
       "    .dataframe tbody tr th:only-of-type {\n",
       "        vertical-align: middle;\n",
       "    }\n",
       "\n",
       "    .dataframe tbody tr th {\n",
       "        vertical-align: top;\n",
       "    }\n",
       "\n",
       "    .dataframe thead th {\n",
       "        text-align: right;\n",
       "    }\n",
       "</style>\n",
       "<table border=\"1\" class=\"dataframe\">\n",
       "  <thead>\n",
       "    <tr style=\"text-align: right;\">\n",
       "      <th></th>\n",
       "      <th>label</th>\n",
       "      <th>name</th>\n",
       "    </tr>\n",
       "  </thead>\n",
       "  <tbody>\n",
       "    <tr>\n",
       "      <th>176</th>\n",
       "      <td>/m/02p0tk3</td>\n",
       "      <td>Human body</td>\n",
       "    </tr>\n",
       "    <tr>\n",
       "      <th>213</th>\n",
       "      <td>/m/031n1</td>\n",
       "      <td>Human foot</td>\n",
       "    </tr>\n",
       "    <tr>\n",
       "      <th>220</th>\n",
       "      <td>/m/035r7c</td>\n",
       "      <td>Human leg</td>\n",
       "    </tr>\n",
       "    <tr>\n",
       "      <th>291</th>\n",
       "      <td>/m/04hgtk</td>\n",
       "      <td>Human head</td>\n",
       "    </tr>\n",
       "    <tr>\n",
       "      <th>502</th>\n",
       "      <td>/m/0dzf4</td>\n",
       "      <td>Human arm</td>\n",
       "    </tr>\n",
       "    <tr>\n",
       "      <th>572</th>\n",
       "      <td>/m/0k65p</td>\n",
       "      <td>Human hand</td>\n",
       "    </tr>\n",
       "  </tbody>\n",
       "</table>\n",
       "</div>"
      ],
      "text/plain": [
       "          label        name\n",
       "176  /m/02p0tk3  Human body\n",
       "213    /m/031n1  Human foot\n",
       "220   /m/035r7c   Human leg\n",
       "291   /m/04hgtk  Human head\n",
       "502    /m/0dzf4   Human arm\n",
       "572    /m/0k65p  Human hand"
      ]
     },
     "execution_count": 7,
     "metadata": {},
     "output_type": "execute_result"
    }
   ],
   "source": [
    "class_labels = class_labels[ class_labels[\"name\"].isin(['Human arm','Human head','Human body','Human hand','Human leg','Human foot']) ]\n",
    "class_labels"
   ]
  },
  {
   "cell_type": "markdown",
   "metadata": {},
   "source": [
    "### Creating new annotation boxes"
   ]
  },
  {
   "cell_type": "code",
   "execution_count": 8,
   "metadata": {},
   "outputs": [],
   "source": [
    "chunksize = 1000\n",
    "\n",
    "with open('/tmp/dataset/train-annotations-bbox.csv') as file:\n",
    "    for chunk in pd.read_csv(file, chunksize=chunksize):\n",
    "        new_dataset = chunk[ chunk['LabelName'].isin(list(class_labels.label)) ]\n",
    "        if not os.path.isfile('/tmp/dataset/new-train-annotations-bbox.csv'): # if file does not exist write header \n",
    "            new_dataset.to_csv('/tmp/dataset/new-train-annotations-bbox.csv', header=chunk.columns, index = False)\n",
    "        else: # else it exists so append without writing the header\n",
    "            new_dataset.to_csv('/tmp/dataset/new-train-annotations-bbox.csv', mode='a', header=False, index = False)"
   ]
  },
  {
   "cell_type": "code",
   "execution_count": 9,
   "metadata": {},
   "outputs": [],
   "source": [
    "with open('/tmp/dataset/test-annotations-bbox.csv') as file:\n",
    "    for chunk in pd.read_csv(file, chunksize=chunksize):\n",
    "        new_dataset = chunk[ chunk['LabelName'].isin(list(class_labels.label)) ]\n",
    "        if not os.path.isfile('/tmp/dataset/new-test-annotations-bbox.csv'): # if file does not exist write header \n",
    "            new_dataset.to_csv('/tmp/dataset/new-test-annotations-bbox.csv', header=chunk.columns, index = False)\n",
    "        else: # else it exists so append without writing the header\n",
    "            new_dataset.to_csv('/tmp/dataset/new-test-annotations-bbox.csv', mode='a', header=False, index = False)"
   ]
  },
  {
   "cell_type": "code",
   "execution_count": 10,
   "metadata": {},
   "outputs": [],
   "source": [
    "with open('/tmp/dataset/validation-annotations-bbox.csv') as file:\n",
    "    for chunk in pd.read_csv(file, chunksize=chunksize):\n",
    "        new_dataset = chunk[ chunk['LabelName'].isin(list(class_labels.label)) ]\n",
    "        if not os.path.isfile('/tmp/dataset/new-validation-annotations-bbox.csv'): # if file does not exist write header \n",
    "            new_dataset.to_csv('/tmp/dataset/new-validation-annotations-bbox.csv', header=chunk.columns, index = False)\n",
    "        else: # else it exists so append without writing the header\n",
    "            new_dataset.to_csv('/tmp/dataset/new-validation-annotations-bbox.csv', mode='a', header=False, index = False)"
   ]
  },
  {
   "cell_type": "code",
   "execution_count": 11,
   "metadata": {},
   "outputs": [],
   "source": [
    "class_labels.to_csv('/tmp/dataset/new-class-descriptions-boxable.csv', header=False, index = False)"
   ]
  },
  {
   "cell_type": "markdown",
   "metadata": {},
   "source": [
    "### Remove unnecessary files"
   ]
  },
  {
   "cell_type": "code",
   "execution_count": 12,
   "metadata": {},
   "outputs": [
    {
     "name": "stdout",
     "output_type": "stream",
     "text": [
      "new-class-descriptions-boxable.csv  new-train-annotations-bbox.csv\r\n",
      "new-test-annotations-bbox.csv\t    new-validation-annotations-bbox.csv\r\n"
     ]
    }
   ],
   "source": [
    "!rm /tmp/dataset/train-annotations-bbox.csv\n",
    "!rm /tmp/dataset/test-annotations-bbox.csv\n",
    "!rm /tmp/dataset/validation-annotations-bbox.csv\n",
    "!rm /tmp/dataset/class-descriptions-boxable.csv\n",
    "\n",
    "!ls /tmp/dataset/"
   ]
  },
  {
   "cell_type": "code",
   "execution_count": 82,
   "metadata": {},
   "outputs": [
    {
     "data": {
      "text/html": [
       "<div>\n",
       "<style scoped>\n",
       "    .dataframe tbody tr th:only-of-type {\n",
       "        vertical-align: middle;\n",
       "    }\n",
       "\n",
       "    .dataframe tbody tr th {\n",
       "        vertical-align: top;\n",
       "    }\n",
       "\n",
       "    .dataframe thead th {\n",
       "        text-align: right;\n",
       "    }\n",
       "</style>\n",
       "<table border=\"1\" class=\"dataframe\">\n",
       "  <thead>\n",
       "    <tr style=\"text-align: right;\">\n",
       "      <th></th>\n",
       "      <th>ImageID</th>\n",
       "      <th>Source</th>\n",
       "      <th>LabelName</th>\n",
       "      <th>Confidence</th>\n",
       "      <th>XMin</th>\n",
       "      <th>XMax</th>\n",
       "      <th>YMin</th>\n",
       "      <th>YMax</th>\n",
       "      <th>IsOccluded</th>\n",
       "      <th>IsTruncated</th>\n",
       "      <th>IsGroupOf</th>\n",
       "      <th>IsDepiction</th>\n",
       "      <th>IsInside</th>\n",
       "    </tr>\n",
       "  </thead>\n",
       "  <tbody>\n",
       "    <tr>\n",
       "      <th>0</th>\n",
       "      <td>000004f4400f6ec5</td>\n",
       "      <td>xclick</td>\n",
       "      <td>/m/04hgtk</td>\n",
       "      <td>1</td>\n",
       "      <td>0.300625</td>\n",
       "      <td>0.508125</td>\n",
       "      <td>0.224090</td>\n",
       "      <td>0.608777</td>\n",
       "      <td>1</td>\n",
       "      <td>0</td>\n",
       "      <td>0</td>\n",
       "      <td>0</td>\n",
       "      <td>0</td>\n",
       "    </tr>\n",
       "    <tr>\n",
       "      <th>1</th>\n",
       "      <td>000004f4400f6ec5</td>\n",
       "      <td>xclick</td>\n",
       "      <td>/m/04hgtk</td>\n",
       "      <td>1</td>\n",
       "      <td>0.544375</td>\n",
       "      <td>0.692500</td>\n",
       "      <td>0.179272</td>\n",
       "      <td>0.469655</td>\n",
       "      <td>0</td>\n",
       "      <td>0</td>\n",
       "      <td>0</td>\n",
       "      <td>0</td>\n",
       "      <td>0</td>\n",
       "    </tr>\n",
       "    <tr>\n",
       "      <th>2</th>\n",
       "      <td>000004f4400f6ec5</td>\n",
       "      <td>xclick</td>\n",
       "      <td>/m/04hgtk</td>\n",
       "      <td>1</td>\n",
       "      <td>0.768125</td>\n",
       "      <td>0.999375</td>\n",
       "      <td>0.648926</td>\n",
       "      <td>0.999066</td>\n",
       "      <td>0</td>\n",
       "      <td>1</td>\n",
       "      <td>0</td>\n",
       "      <td>0</td>\n",
       "      <td>0</td>\n",
       "    </tr>\n",
       "    <tr>\n",
       "      <th>3</th>\n",
       "      <td>000004f4400f6ec5</td>\n",
       "      <td>xclick</td>\n",
       "      <td>/m/0dzf4</td>\n",
       "      <td>1</td>\n",
       "      <td>0.143125</td>\n",
       "      <td>0.615625</td>\n",
       "      <td>0.597572</td>\n",
       "      <td>0.999066</td>\n",
       "      <td>1</td>\n",
       "      <td>1</td>\n",
       "      <td>0</td>\n",
       "      <td>0</td>\n",
       "      <td>0</td>\n",
       "    </tr>\n",
       "    <tr>\n",
       "      <th>4</th>\n",
       "      <td>000004f4400f6ec5</td>\n",
       "      <td>xclick</td>\n",
       "      <td>/m/0dzf4</td>\n",
       "      <td>1</td>\n",
       "      <td>0.403750</td>\n",
       "      <td>0.716250</td>\n",
       "      <td>0.478992</td>\n",
       "      <td>0.892624</td>\n",
       "      <td>1</td>\n",
       "      <td>0</td>\n",
       "      <td>0</td>\n",
       "      <td>0</td>\n",
       "      <td>0</td>\n",
       "    </tr>\n",
       "  </tbody>\n",
       "</table>\n",
       "</div>"
      ],
      "text/plain": [
       "            ImageID  Source  LabelName  Confidence      XMin      XMax  \\\n",
       "0  000004f4400f6ec5  xclick  /m/04hgtk           1  0.300625  0.508125   \n",
       "1  000004f4400f6ec5  xclick  /m/04hgtk           1  0.544375  0.692500   \n",
       "2  000004f4400f6ec5  xclick  /m/04hgtk           1  0.768125  0.999375   \n",
       "3  000004f4400f6ec5  xclick   /m/0dzf4           1  0.143125  0.615625   \n",
       "4  000004f4400f6ec5  xclick   /m/0dzf4           1  0.403750  0.716250   \n",
       "\n",
       "       YMin      YMax  IsOccluded  IsTruncated  IsGroupOf  IsDepiction  \\\n",
       "0  0.224090  0.608777           1            0          0            0   \n",
       "1  0.179272  0.469655           0            0          0            0   \n",
       "2  0.648926  0.999066           0            1          0            0   \n",
       "3  0.597572  0.999066           1            1          0            0   \n",
       "4  0.478992  0.892624           1            0          0            0   \n",
       "\n",
       "   IsInside  \n",
       "0         0  \n",
       "1         0  \n",
       "2         0  \n",
       "3         0  \n",
       "4         0  "
      ]
     },
     "execution_count": 82,
     "metadata": {},
     "output_type": "execute_result"
    }
   ],
   "source": [
    "train_annotations = pd.read_csv('/tmp/dataset/new-train-annotations-bbox.csv')\n",
    "train_annotations.head()"
   ]
  },
  {
   "cell_type": "code",
   "execution_count": 83,
   "metadata": {},
   "outputs": [
    {
     "name": "stdout",
     "output_type": "stream",
     "text": [
      "Current size: 734882\n",
      "New size: 678042\n"
     ]
    }
   ],
   "source": [
    "print(\"Current size:\", len(train_annotations))\n",
    "\n",
    "train_annotations = train_annotations[ train_annotations.IsDepiction == 0 ]\n",
    "train_annotations = train_annotations[ train_annotations.IsInside == 0 ]\n",
    "\n",
    "print(\"New size:\", len(train_annotations))"
   ]
  },
  {
   "cell_type": "code",
   "execution_count": 84,
   "metadata": {},
   "outputs": [
    {
     "data": {
      "text/html": [
       "<div>\n",
       "<style scoped>\n",
       "    .dataframe tbody tr th:only-of-type {\n",
       "        vertical-align: middle;\n",
       "    }\n",
       "\n",
       "    .dataframe tbody tr th {\n",
       "        vertical-align: top;\n",
       "    }\n",
       "\n",
       "    .dataframe thead th {\n",
       "        text-align: right;\n",
       "    }\n",
       "</style>\n",
       "<table border=\"1\" class=\"dataframe\">\n",
       "  <thead>\n",
       "    <tr style=\"text-align: right;\">\n",
       "      <th></th>\n",
       "      <th>ImageID</th>\n",
       "      <th>Source</th>\n",
       "      <th>LabelName</th>\n",
       "      <th>Confidence</th>\n",
       "      <th>XMin</th>\n",
       "      <th>XMax</th>\n",
       "      <th>YMin</th>\n",
       "      <th>YMax</th>\n",
       "      <th>IsOccluded</th>\n",
       "      <th>IsTruncated</th>\n",
       "      <th>IsGroupOf</th>\n",
       "      <th>IsDepiction</th>\n",
       "      <th>IsInside</th>\n",
       "    </tr>\n",
       "  </thead>\n",
       "  <tbody>\n",
       "    <tr>\n",
       "      <th>0</th>\n",
       "      <td>000004f4400f6ec5</td>\n",
       "      <td>xclick</td>\n",
       "      <td>/m/04hgtk</td>\n",
       "      <td>1</td>\n",
       "      <td>0.300625</td>\n",
       "      <td>0.508125</td>\n",
       "      <td>0.224090</td>\n",
       "      <td>0.608777</td>\n",
       "      <td>1</td>\n",
       "      <td>0</td>\n",
       "      <td>0</td>\n",
       "      <td>0</td>\n",
       "      <td>0</td>\n",
       "    </tr>\n",
       "    <tr>\n",
       "      <th>1</th>\n",
       "      <td>000004f4400f6ec5</td>\n",
       "      <td>xclick</td>\n",
       "      <td>/m/04hgtk</td>\n",
       "      <td>1</td>\n",
       "      <td>0.544375</td>\n",
       "      <td>0.692500</td>\n",
       "      <td>0.179272</td>\n",
       "      <td>0.469655</td>\n",
       "      <td>0</td>\n",
       "      <td>0</td>\n",
       "      <td>0</td>\n",
       "      <td>0</td>\n",
       "      <td>0</td>\n",
       "    </tr>\n",
       "    <tr>\n",
       "      <th>2</th>\n",
       "      <td>000004f4400f6ec5</td>\n",
       "      <td>xclick</td>\n",
       "      <td>/m/04hgtk</td>\n",
       "      <td>1</td>\n",
       "      <td>0.768125</td>\n",
       "      <td>0.999375</td>\n",
       "      <td>0.648926</td>\n",
       "      <td>0.999066</td>\n",
       "      <td>0</td>\n",
       "      <td>1</td>\n",
       "      <td>0</td>\n",
       "      <td>0</td>\n",
       "      <td>0</td>\n",
       "    </tr>\n",
       "    <tr>\n",
       "      <th>3</th>\n",
       "      <td>000004f4400f6ec5</td>\n",
       "      <td>xclick</td>\n",
       "      <td>/m/0dzf4</td>\n",
       "      <td>1</td>\n",
       "      <td>0.143125</td>\n",
       "      <td>0.615625</td>\n",
       "      <td>0.597572</td>\n",
       "      <td>0.999066</td>\n",
       "      <td>1</td>\n",
       "      <td>1</td>\n",
       "      <td>0</td>\n",
       "      <td>0</td>\n",
       "      <td>0</td>\n",
       "    </tr>\n",
       "    <tr>\n",
       "      <th>4</th>\n",
       "      <td>000004f4400f6ec5</td>\n",
       "      <td>xclick</td>\n",
       "      <td>/m/0dzf4</td>\n",
       "      <td>1</td>\n",
       "      <td>0.403750</td>\n",
       "      <td>0.716250</td>\n",
       "      <td>0.478992</td>\n",
       "      <td>0.892624</td>\n",
       "      <td>1</td>\n",
       "      <td>0</td>\n",
       "      <td>0</td>\n",
       "      <td>0</td>\n",
       "      <td>0</td>\n",
       "    </tr>\n",
       "  </tbody>\n",
       "</table>\n",
       "</div>"
      ],
      "text/plain": [
       "            ImageID  Source  LabelName  Confidence      XMin      XMax  \\\n",
       "0  000004f4400f6ec5  xclick  /m/04hgtk           1  0.300625  0.508125   \n",
       "1  000004f4400f6ec5  xclick  /m/04hgtk           1  0.544375  0.692500   \n",
       "2  000004f4400f6ec5  xclick  /m/04hgtk           1  0.768125  0.999375   \n",
       "3  000004f4400f6ec5  xclick   /m/0dzf4           1  0.143125  0.615625   \n",
       "4  000004f4400f6ec5  xclick   /m/0dzf4           1  0.403750  0.716250   \n",
       "\n",
       "       YMin      YMax  IsOccluded  IsTruncated  IsGroupOf  IsDepiction  \\\n",
       "0  0.224090  0.608777           1            0          0            0   \n",
       "1  0.179272  0.469655           0            0          0            0   \n",
       "2  0.648926  0.999066           0            1          0            0   \n",
       "3  0.597572  0.999066           1            1          0            0   \n",
       "4  0.478992  0.892624           1            0          0            0   \n",
       "\n",
       "   IsInside  \n",
       "0         0  \n",
       "1         0  \n",
       "2         0  \n",
       "3         0  \n",
       "4         0  "
      ]
     },
     "execution_count": 84,
     "metadata": {},
     "output_type": "execute_result"
    }
   ],
   "source": [
    "train_annotations.head()"
   ]
  },
  {
   "cell_type": "markdown",
   "metadata": {},
   "source": [
    "### Occluded"
   ]
  },
  {
   "cell_type": "code",
   "execution_count": 16,
   "metadata": {},
   "outputs": [
    {
     "data": {
      "text/plain": [
       "472020"
      ]
     },
     "execution_count": 16,
     "metadata": {},
     "output_type": "execute_result"
    }
   ],
   "source": [
    "len(train_annotations[ train_annotations.IsOccluded == 1 ])"
   ]
  },
  {
   "cell_type": "markdown",
   "metadata": {},
   "source": [
    "### Truncated"
   ]
  },
  {
   "cell_type": "code",
   "execution_count": 17,
   "metadata": {},
   "outputs": [
    {
     "data": {
      "text/plain": [
       "126968"
      ]
     },
     "execution_count": 17,
     "metadata": {},
     "output_type": "execute_result"
    }
   ],
   "source": [
    "len(train_annotations[ train_annotations.IsTruncated == 1 ])"
   ]
  },
  {
   "cell_type": "markdown",
   "metadata": {},
   "source": [
    "### GroupOf"
   ]
  },
  {
   "cell_type": "code",
   "execution_count": 18,
   "metadata": {},
   "outputs": [
    {
     "data": {
      "text/plain": [
       "8325"
      ]
     },
     "execution_count": 18,
     "metadata": {},
     "output_type": "execute_result"
    }
   ],
   "source": [
    "len(train_annotations[ train_annotations.IsGroupOf == 1 ])"
   ]
  },
  {
   "cell_type": "markdown",
   "metadata": {},
   "source": [
    "### Nothing"
   ]
  },
  {
   "cell_type": "code",
   "execution_count": 19,
   "metadata": {},
   "outputs": [
    {
     "data": {
      "text/plain": [
       "70729"
      ]
     },
     "execution_count": 19,
     "metadata": {},
     "output_type": "execute_result"
    }
   ],
   "source": [
    "len(train_annotations) - len(train_annotations[ train_annotations.IsOccluded == 1 ]) - len(train_annotations[ train_annotations.IsTruncated == 1 ]) - len(train_annotations[ train_annotations.IsGroupOf == 1 ])"
   ]
  },
  {
   "cell_type": "code",
   "execution_count": 66,
   "metadata": {},
   "outputs": [
    {
     "data": {
      "text/plain": [
       "{'Human body': '/m/02p0tk3',\n",
       " 'Human foot': '/m/031n1',\n",
       " 'Human leg': '/m/035r7c',\n",
       " 'Human head': '/m/04hgtk',\n",
       " 'Human arm': '/m/0dzf4',\n",
       " 'Human hand': '/m/0k65p'}"
      ]
     },
     "execution_count": 66,
     "metadata": {},
     "output_type": "execute_result"
    }
   ],
   "source": [
    "class_labels_dict = { row['label']:row['name'] for index, row in class_labels.iterrows()}\n",
    "class_labels_dict\n",
    "labels_class = { row['name']:row['label'] for index, row in class_labels.iterrows()}\n",
    "labels_class"
   ]
  },
  {
   "cell_type": "code",
   "execution_count": 67,
   "metadata": {},
   "outputs": [
    {
     "data": {
      "text/html": [
       "<div>\n",
       "<style scoped>\n",
       "    .dataframe tbody tr th:only-of-type {\n",
       "        vertical-align: middle;\n",
       "    }\n",
       "\n",
       "    .dataframe tbody tr th {\n",
       "        vertical-align: top;\n",
       "    }\n",
       "\n",
       "    .dataframe thead th {\n",
       "        text-align: right;\n",
       "    }\n",
       "</style>\n",
       "<table border=\"1\" class=\"dataframe\">\n",
       "  <thead>\n",
       "    <tr style=\"text-align: right;\">\n",
       "      <th></th>\n",
       "      <th>Confidence</th>\n",
       "      <th>XMin</th>\n",
       "      <th>XMax</th>\n",
       "      <th>YMin</th>\n",
       "      <th>YMax</th>\n",
       "      <th>IsOccluded</th>\n",
       "      <th>IsTruncated</th>\n",
       "      <th>IsGroupOf</th>\n",
       "      <th>IsDepiction</th>\n",
       "      <th>IsInside</th>\n",
       "    </tr>\n",
       "    <tr>\n",
       "      <th>LabelName</th>\n",
       "      <th></th>\n",
       "      <th></th>\n",
       "      <th></th>\n",
       "      <th></th>\n",
       "      <th></th>\n",
       "      <th></th>\n",
       "      <th></th>\n",
       "      <th></th>\n",
       "      <th></th>\n",
       "      <th></th>\n",
       "    </tr>\n",
       "  </thead>\n",
       "  <tbody>\n",
       "    <tr>\n",
       "      <th>Human arm</th>\n",
       "      <td>194495</td>\n",
       "      <td>85229.359767</td>\n",
       "      <td>108833.839525</td>\n",
       "      <td>87665.511768</td>\n",
       "      <td>127390.685102</td>\n",
       "      <td>181885</td>\n",
       "      <td>31816</td>\n",
       "      <td>425</td>\n",
       "      <td>0</td>\n",
       "      <td>0</td>\n",
       "    </tr>\n",
       "    <tr>\n",
       "      <th>Human body</th>\n",
       "      <td>166472</td>\n",
       "      <td>64403.111384</td>\n",
       "      <td>102168.013673</td>\n",
       "      <td>58483.159714</td>\n",
       "      <td>126433.771994</td>\n",
       "      <td>86955</td>\n",
       "      <td>47508</td>\n",
       "      <td>5549</td>\n",
       "      <td>0</td>\n",
       "      <td>0</td>\n",
       "    </tr>\n",
       "    <tr>\n",
       "      <th>Human foot</th>\n",
       "      <td>2189</td>\n",
       "      <td>903.532892</td>\n",
       "      <td>1317.681044</td>\n",
       "      <td>1099.623627</td>\n",
       "      <td>1620.064162</td>\n",
       "      <td>1345</td>\n",
       "      <td>317</td>\n",
       "      <td>5</td>\n",
       "      <td>0</td>\n",
       "      <td>0</td>\n",
       "    </tr>\n",
       "    <tr>\n",
       "      <th>Human hand</th>\n",
       "      <td>71356</td>\n",
       "      <td>31955.878986</td>\n",
       "      <td>38965.590223</td>\n",
       "      <td>37422.364734</td>\n",
       "      <td>45600.325481</td>\n",
       "      <td>49172</td>\n",
       "      <td>8137</td>\n",
       "      <td>14</td>\n",
       "      <td>0</td>\n",
       "      <td>0</td>\n",
       "    </tr>\n",
       "    <tr>\n",
       "      <th>Human head</th>\n",
       "      <td>173875</td>\n",
       "      <td>76105.369504</td>\n",
       "      <td>96991.360930</td>\n",
       "      <td>58662.986931</td>\n",
       "      <td>87589.093671</td>\n",
       "      <td>101886</td>\n",
       "      <td>23044</td>\n",
       "      <td>1949</td>\n",
       "      <td>0</td>\n",
       "      <td>0</td>\n",
       "    </tr>\n",
       "    <tr>\n",
       "      <th>Human leg</th>\n",
       "      <td>69655</td>\n",
       "      <td>30647.222386</td>\n",
       "      <td>39081.318953</td>\n",
       "      <td>38303.032020</td>\n",
       "      <td>54633.141161</td>\n",
       "      <td>50777</td>\n",
       "      <td>16146</td>\n",
       "      <td>383</td>\n",
       "      <td>0</td>\n",
       "      <td>0</td>\n",
       "    </tr>\n",
       "  </tbody>\n",
       "</table>\n",
       "</div>"
      ],
      "text/plain": [
       "            Confidence          XMin           XMax          YMin  \\\n",
       "LabelName                                                           \n",
       "Human arm       194495  85229.359767  108833.839525  87665.511768   \n",
       "Human body      166472  64403.111384  102168.013673  58483.159714   \n",
       "Human foot        2189    903.532892    1317.681044   1099.623627   \n",
       "Human hand       71356  31955.878986   38965.590223  37422.364734   \n",
       "Human head      173875  76105.369504   96991.360930  58662.986931   \n",
       "Human leg        69655  30647.222386   39081.318953  38303.032020   \n",
       "\n",
       "                     YMax  IsOccluded  IsTruncated  IsGroupOf  IsDepiction  \\\n",
       "LabelName                                                                    \n",
       "Human arm   127390.685102      181885        31816        425            0   \n",
       "Human body  126433.771994       86955        47508       5549            0   \n",
       "Human foot    1620.064162        1345          317          5            0   \n",
       "Human hand   45600.325481       49172         8137         14            0   \n",
       "Human head   87589.093671      101886        23044       1949            0   \n",
       "Human leg    54633.141161       50777        16146        383            0   \n",
       "\n",
       "            IsInside  \n",
       "LabelName             \n",
       "Human arm          0  \n",
       "Human body         0  \n",
       "Human foot         0  \n",
       "Human hand         0  \n",
       "Human head         0  \n",
       "Human leg          0  "
      ]
     },
     "execution_count": 67,
     "metadata": {},
     "output_type": "execute_result"
    }
   ],
   "source": [
    "train_annotations.replace({'LabelName' : class_labels_dict}).groupby('LabelName').sum()"
   ]
  },
  {
   "cell_type": "code",
   "execution_count": 68,
   "metadata": {},
   "outputs": [
    {
     "data": {
      "text/html": [
       "<div>\n",
       "<style scoped>\n",
       "    .dataframe tbody tr th:only-of-type {\n",
       "        vertical-align: middle;\n",
       "    }\n",
       "\n",
       "    .dataframe tbody tr th {\n",
       "        vertical-align: top;\n",
       "    }\n",
       "\n",
       "    .dataframe thead th {\n",
       "        text-align: right;\n",
       "    }\n",
       "</style>\n",
       "<table border=\"1\" class=\"dataframe\">\n",
       "  <thead>\n",
       "    <tr style=\"text-align: right;\">\n",
       "      <th></th>\n",
       "      <th>ImageID</th>\n",
       "      <th>Source</th>\n",
       "      <th>LabelName</th>\n",
       "      <th>Confidence</th>\n",
       "      <th>XMin</th>\n",
       "      <th>XMax</th>\n",
       "      <th>YMin</th>\n",
       "      <th>YMax</th>\n",
       "      <th>IsOccluded</th>\n",
       "      <th>IsTruncated</th>\n",
       "      <th>IsGroupOf</th>\n",
       "      <th>IsDepiction</th>\n",
       "      <th>IsInside</th>\n",
       "    </tr>\n",
       "  </thead>\n",
       "  <tbody>\n",
       "    <tr>\n",
       "      <th>42</th>\n",
       "      <td>00007902a7b96e8c</td>\n",
       "      <td>xclick</td>\n",
       "      <td>/m/031n1</td>\n",
       "      <td>1</td>\n",
       "      <td>0.243542</td>\n",
       "      <td>0.434502</td>\n",
       "      <td>0.805204</td>\n",
       "      <td>0.902250</td>\n",
       "      <td>0</td>\n",
       "      <td>0</td>\n",
       "      <td>0</td>\n",
       "      <td>0</td>\n",
       "      <td>0</td>\n",
       "    </tr>\n",
       "    <tr>\n",
       "      <th>83</th>\n",
       "      <td>0000e2205e460318</td>\n",
       "      <td>xclick</td>\n",
       "      <td>/m/031n1</td>\n",
       "      <td>1</td>\n",
       "      <td>0.057500</td>\n",
       "      <td>0.089375</td>\n",
       "      <td>0.621951</td>\n",
       "      <td>0.651032</td>\n",
       "      <td>1</td>\n",
       "      <td>0</td>\n",
       "      <td>0</td>\n",
       "      <td>0</td>\n",
       "      <td>0</td>\n",
       "    </tr>\n",
       "    <tr>\n",
       "      <th>84</th>\n",
       "      <td>0000e2205e460318</td>\n",
       "      <td>xclick</td>\n",
       "      <td>/m/031n1</td>\n",
       "      <td>1</td>\n",
       "      <td>0.070000</td>\n",
       "      <td>0.111250</td>\n",
       "      <td>0.632270</td>\n",
       "      <td>0.654784</td>\n",
       "      <td>1</td>\n",
       "      <td>0</td>\n",
       "      <td>0</td>\n",
       "      <td>0</td>\n",
       "      <td>0</td>\n",
       "    </tr>\n",
       "    <tr>\n",
       "      <th>85</th>\n",
       "      <td>0000e2205e460318</td>\n",
       "      <td>xclick</td>\n",
       "      <td>/m/031n1</td>\n",
       "      <td>1</td>\n",
       "      <td>0.144375</td>\n",
       "      <td>0.188125</td>\n",
       "      <td>0.645403</td>\n",
       "      <td>0.678236</td>\n",
       "      <td>1</td>\n",
       "      <td>0</td>\n",
       "      <td>0</td>\n",
       "      <td>0</td>\n",
       "      <td>0</td>\n",
       "    </tr>\n",
       "    <tr>\n",
       "      <th>86</th>\n",
       "      <td>0000e2205e460318</td>\n",
       "      <td>xclick</td>\n",
       "      <td>/m/031n1</td>\n",
       "      <td>1</td>\n",
       "      <td>0.166250</td>\n",
       "      <td>0.208125</td>\n",
       "      <td>0.652908</td>\n",
       "      <td>0.681989</td>\n",
       "      <td>1</td>\n",
       "      <td>0</td>\n",
       "      <td>0</td>\n",
       "      <td>0</td>\n",
       "      <td>0</td>\n",
       "    </tr>\n",
       "  </tbody>\n",
       "</table>\n",
       "</div>"
      ],
      "text/plain": [
       "             ImageID  Source LabelName  Confidence      XMin      XMax  \\\n",
       "42  00007902a7b96e8c  xclick  /m/031n1           1  0.243542  0.434502   \n",
       "83  0000e2205e460318  xclick  /m/031n1           1  0.057500  0.089375   \n",
       "84  0000e2205e460318  xclick  /m/031n1           1  0.070000  0.111250   \n",
       "85  0000e2205e460318  xclick  /m/031n1           1  0.144375  0.188125   \n",
       "86  0000e2205e460318  xclick  /m/031n1           1  0.166250  0.208125   \n",
       "\n",
       "        YMin      YMax  IsOccluded  IsTruncated  IsGroupOf  IsDepiction  \\\n",
       "42  0.805204  0.902250           0            0          0            0   \n",
       "83  0.621951  0.651032           1            0          0            0   \n",
       "84  0.632270  0.654784           1            0          0            0   \n",
       "85  0.645403  0.678236           1            0          0            0   \n",
       "86  0.652908  0.681989           1            0          0            0   \n",
       "\n",
       "    IsInside  \n",
       "42         0  \n",
       "83         0  \n",
       "84         0  \n",
       "85         0  \n",
       "86         0  "
      ]
     },
     "execution_count": 68,
     "metadata": {},
     "output_type": "execute_result"
    }
   ],
   "source": [
    "df_foot = train_annotations[train_annotations.LabelName == labels_class['Human foot']]\n",
    "df_body = train_annotations[train_annotations.LabelName == labels_class['Human body']]\n",
    "df_arm = train_annotations[train_annotations.LabelName == labels_class['Human arm']]\n",
    "df_hand = train_annotations[train_annotations.LabelName == labels_class['Human hand']]\n",
    "df_head = train_annotations[train_annotations.LabelName == labels_class['Human head']]\n",
    "df_leg = train_annotations[train_annotations.LabelName == labels_class['Human leg']]\n",
    "df_foot.head()"
   ]
  },
  {
   "cell_type": "code",
   "execution_count": 71,
   "metadata": {},
   "outputs": [],
   "source": [
    "# Filtering datasets\n",
    "df_body = df_body.sample(len(df_foot))\n",
    "df_arm = df_arm.sample(len(df_foot))\n",
    "df_hand = df_hand.sample(len(df_foot))\n",
    "df_head = df_head.sample(len(df_foot))\n",
    "df_leg = df_leg.sample(len(df_foot))"
   ]
  },
  {
   "cell_type": "code",
   "execution_count": 75,
   "metadata": {},
   "outputs": [
    {
     "name": "stdout",
     "output_type": "stream",
     "text": [
      "df_body: ImageID        1951b374029fec0417b4123731480ad3b236b0d066f176...\n",
      "Source         activemilxclickxclickxclickxclickxclickxclickx...\n",
      "LabelName      /m/02p0tk3/m/02p0tk3/m/02p0tk3/m/02p0tk3/m/02p...\n",
      "Confidence                                                  2189\n",
      "XMin                                                     849.776\n",
      "XMax                                                     1356.46\n",
      "YMin                                                     764.221\n",
      "YMax                                                     1671.94\n",
      "IsOccluded                                                  1122\n",
      "IsTruncated                                                  618\n",
      "IsGroupOf                                                     90\n",
      "IsDepiction                                                    0\n",
      "IsInside                                                       0\n",
      "dtype: object\n",
      "df_arm: ImageID        dcf1b01245d05fdc2492e48cc08ca4d8c3335db02abd2d...\n",
      "Source         xclickxclickxclickxclickxclickxclickxclickxcli...\n",
      "LabelName      /m/0dzf4/m/0dzf4/m/0dzf4/m/0dzf4/m/0dzf4/m/0dz...\n",
      "Confidence                                                  2189\n",
      "XMin                                                     966.108\n",
      "XMax                                                     1229.28\n",
      "YMin                                                     985.146\n",
      "YMax                                                     1414.15\n",
      "IsOccluded                                                  2037\n",
      "IsTruncated                                                  369\n",
      "IsGroupOf                                                      5\n",
      "IsDepiction                                                    0\n",
      "IsInside                                                       0\n",
      "dtype: object\n",
      "df_hand: ImageID        8ba0c70cf831710320ed896011451a8a1a3a6c1c379d20...\n",
      "Source         xclickactivemilxclickxclickxclickxclickxclicka...\n",
      "LabelName      /m/0k65p/m/0k65p/m/0k65p/m/0k65p/m/0k65p/m/0k6...\n",
      "Confidence                                                  2189\n",
      "XMin                                                     992.512\n",
      "XMax                                                     1210.79\n",
      "YMin                                                      1158.4\n",
      "YMax                                                     1411.71\n",
      "IsOccluded                                                  1486\n",
      "IsTruncated                                                  241\n",
      "IsGroupOf                                                      0\n",
      "IsDepiction                                                    0\n",
      "IsInside                                                       0\n",
      "dtype: object\n",
      "df_head: ImageID        8b671ef17c8fb36c8bdd2b1cec13ecf080150ea94bc0c6...\n",
      "Source         xclickxclickactivemilxclickactivemilxclickxcli...\n",
      "LabelName      /m/04hgtk/m/04hgtk/m/04hgtk/m/04hgtk/m/04hgtk/...\n",
      "Confidence                                                  2189\n",
      "XMin                                                     971.312\n",
      "XMax                                                     1229.31\n",
      "YMin                                                     742.252\n",
      "YMax                                                     1101.42\n",
      "IsOccluded                                                  1303\n",
      "IsTruncated                                                  266\n",
      "IsGroupOf                                                     30\n",
      "IsDepiction                                                    0\n",
      "IsInside                                                       0\n",
      "dtype: object\n",
      "df_leg: ImageID        7780d19af21e1cd42d415b40d0b6cc4e25631f8bf3273c...\n",
      "Source         xclickxclickxclickxclickxclickxclickxclickxcli...\n",
      "LabelName      /m/035r7c/m/035r7c/m/035r7c/m/035r7c/m/035r7c/...\n",
      "Confidence                                                  2189\n",
      "XMin                                                     946.638\n",
      "XMax                                                      1214.7\n",
      "YMin                                                     1205.49\n",
      "YMax                                                     1719.07\n",
      "IsOccluded                                                  1597\n",
      "IsTruncated                                                  544\n",
      "IsGroupOf                                                     15\n",
      "IsDepiction                                                    0\n",
      "IsInside                                                       0\n",
      "dtype: object\n"
     ]
    }
   ],
   "source": [
    "print('df_body:', df_body.sum() )\n",
    "print('df_arm:', df_arm.sum() )\n",
    "print('df_hand:', df_hand.sum() )\n",
    "print('df_head:', df_head.sum() )\n",
    "print('df_leg:', df_leg.sum() )"
   ]
  },
  {
   "cell_type": "code",
   "execution_count": 76,
   "metadata": {},
   "outputs": [
    {
     "data": {
      "text/plain": [
       "ImageID        00007902a7b96e8c0000e2205e4603180000e2205e4603...\n",
       "Source         xclickxclickxclickxclickxclickxclickxclickxcli...\n",
       "LabelName      /m/031n1/m/031n1/m/031n1/m/031n1/m/031n1/m/031...\n",
       "Confidence                                                 13134\n",
       "XMin                                                     5629.88\n",
       "XMax                                                     7558.22\n",
       "YMin                                                     5955.13\n",
       "YMax                                                     8938.35\n",
       "IsOccluded                                                  8890\n",
       "IsTruncated                                                 2355\n",
       "IsGroupOf                                                    145\n",
       "IsDepiction                                                    0\n",
       "IsInside                                                       0\n",
       "dtype: object"
      ]
     },
     "execution_count": 76,
     "metadata": {},
     "output_type": "execute_result"
    }
   ],
   "source": [
    "final_dataset = df_foot\n",
    "final_dataset = final_dataset.append([df_body,df_arm,df_hand,df_head,df_leg])\n",
    "final_dataset.sum()"
   ]
  },
  {
   "cell_type": "code",
   "execution_count": 78,
   "metadata": {},
   "outputs": [
    {
     "data": {
      "text/html": [
       "<div>\n",
       "<style scoped>\n",
       "    .dataframe tbody tr th:only-of-type {\n",
       "        vertical-align: middle;\n",
       "    }\n",
       "\n",
       "    .dataframe tbody tr th {\n",
       "        vertical-align: top;\n",
       "    }\n",
       "\n",
       "    .dataframe thead th {\n",
       "        text-align: right;\n",
       "    }\n",
       "</style>\n",
       "<table border=\"1\" class=\"dataframe\">\n",
       "  <thead>\n",
       "    <tr style=\"text-align: right;\">\n",
       "      <th></th>\n",
       "      <th>ImageID</th>\n",
       "      <th>Source</th>\n",
       "      <th>LabelName</th>\n",
       "      <th>Confidence</th>\n",
       "      <th>XMin</th>\n",
       "      <th>XMax</th>\n",
       "      <th>YMin</th>\n",
       "      <th>YMax</th>\n",
       "      <th>IsOccluded</th>\n",
       "      <th>IsTruncated</th>\n",
       "      <th>IsGroupOf</th>\n",
       "      <th>IsDepiction</th>\n",
       "      <th>IsInside</th>\n",
       "    </tr>\n",
       "  </thead>\n",
       "  <tbody>\n",
       "    <tr>\n",
       "      <th>42</th>\n",
       "      <td>00007902a7b96e8c</td>\n",
       "      <td>xclick</td>\n",
       "      <td>/m/031n1</td>\n",
       "      <td>1</td>\n",
       "      <td>0.243542</td>\n",
       "      <td>0.434502</td>\n",
       "      <td>0.805204</td>\n",
       "      <td>0.902250</td>\n",
       "      <td>0</td>\n",
       "      <td>0</td>\n",
       "      <td>0</td>\n",
       "      <td>0</td>\n",
       "      <td>0</td>\n",
       "    </tr>\n",
       "    <tr>\n",
       "      <th>83</th>\n",
       "      <td>0000e2205e460318</td>\n",
       "      <td>xclick</td>\n",
       "      <td>/m/031n1</td>\n",
       "      <td>1</td>\n",
       "      <td>0.057500</td>\n",
       "      <td>0.089375</td>\n",
       "      <td>0.621951</td>\n",
       "      <td>0.651032</td>\n",
       "      <td>1</td>\n",
       "      <td>0</td>\n",
       "      <td>0</td>\n",
       "      <td>0</td>\n",
       "      <td>0</td>\n",
       "    </tr>\n",
       "    <tr>\n",
       "      <th>84</th>\n",
       "      <td>0000e2205e460318</td>\n",
       "      <td>xclick</td>\n",
       "      <td>/m/031n1</td>\n",
       "      <td>1</td>\n",
       "      <td>0.070000</td>\n",
       "      <td>0.111250</td>\n",
       "      <td>0.632270</td>\n",
       "      <td>0.654784</td>\n",
       "      <td>1</td>\n",
       "      <td>0</td>\n",
       "      <td>0</td>\n",
       "      <td>0</td>\n",
       "      <td>0</td>\n",
       "    </tr>\n",
       "    <tr>\n",
       "      <th>85</th>\n",
       "      <td>0000e2205e460318</td>\n",
       "      <td>xclick</td>\n",
       "      <td>/m/031n1</td>\n",
       "      <td>1</td>\n",
       "      <td>0.144375</td>\n",
       "      <td>0.188125</td>\n",
       "      <td>0.645403</td>\n",
       "      <td>0.678236</td>\n",
       "      <td>1</td>\n",
       "      <td>0</td>\n",
       "      <td>0</td>\n",
       "      <td>0</td>\n",
       "      <td>0</td>\n",
       "    </tr>\n",
       "    <tr>\n",
       "      <th>86</th>\n",
       "      <td>0000e2205e460318</td>\n",
       "      <td>xclick</td>\n",
       "      <td>/m/031n1</td>\n",
       "      <td>1</td>\n",
       "      <td>0.166250</td>\n",
       "      <td>0.208125</td>\n",
       "      <td>0.652908</td>\n",
       "      <td>0.681989</td>\n",
       "      <td>1</td>\n",
       "      <td>0</td>\n",
       "      <td>0</td>\n",
       "      <td>0</td>\n",
       "      <td>0</td>\n",
       "    </tr>\n",
       "  </tbody>\n",
       "</table>\n",
       "</div>"
      ],
      "text/plain": [
       "             ImageID  Source LabelName  Confidence      XMin      XMax  \\\n",
       "42  00007902a7b96e8c  xclick  /m/031n1           1  0.243542  0.434502   \n",
       "83  0000e2205e460318  xclick  /m/031n1           1  0.057500  0.089375   \n",
       "84  0000e2205e460318  xclick  /m/031n1           1  0.070000  0.111250   \n",
       "85  0000e2205e460318  xclick  /m/031n1           1  0.144375  0.188125   \n",
       "86  0000e2205e460318  xclick  /m/031n1           1  0.166250  0.208125   \n",
       "\n",
       "        YMin      YMax  IsOccluded  IsTruncated  IsGroupOf  IsDepiction  \\\n",
       "42  0.805204  0.902250           0            0          0            0   \n",
       "83  0.621951  0.651032           1            0          0            0   \n",
       "84  0.632270  0.654784           1            0          0            0   \n",
       "85  0.645403  0.678236           1            0          0            0   \n",
       "86  0.652908  0.681989           1            0          0            0   \n",
       "\n",
       "    IsInside  \n",
       "42         0  \n",
       "83         0  \n",
       "84         0  \n",
       "85         0  \n",
       "86         0  "
      ]
     },
     "execution_count": 78,
     "metadata": {},
     "output_type": "execute_result"
    }
   ],
   "source": [
    "final_dataset.head()"
   ]
  },
  {
   "cell_type": "code",
   "execution_count": 85,
   "metadata": {},
   "outputs": [],
   "source": [
    "final_dataset.to_csv('../data/train-annotations-bbox.csv', header=False, index = False)"
   ]
  },
  {
   "cell_type": "code",
   "execution_count": null,
   "metadata": {},
   "outputs": [],
   "source": []
  }
 ],
 "metadata": {
  "kernelspec": {
   "display_name": "Python 3",
   "language": "python",
   "name": "python3"
  },
  "language_info": {
   "codemirror_mode": {
    "name": "ipython",
    "version": 3
   },
   "file_extension": ".py",
   "mimetype": "text/x-python",
   "name": "python",
   "nbconvert_exporter": "python",
   "pygments_lexer": "ipython3",
   "version": "3.7.3"
  }
 },
 "nbformat": 4,
 "nbformat_minor": 2
}
